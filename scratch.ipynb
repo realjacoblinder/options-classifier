{
 "cells": [
  {
   "cell_type": "code",
   "execution_count": 24,
   "metadata": {},
   "outputs": [],
   "source": [
    "from dotenv import load_dotenv\n",
    "from sqlalchemy import create_engine\n",
    "from sqlalchemy.types import Integer, Text, String, DateTime, Float\n",
    "import os"
   ]
  },
  {
   "cell_type": "code",
   "execution_count": 25,
   "metadata": {},
   "outputs": [],
   "source": [
    "load_dotenv()\n",
    "\n",
    "DB_PASS = os.getenv(\"DB_PASS\")\n",
    "DB_USER = os.getenv(\"DB_USER\")\n",
    "DB_HOST = os.getenv(\"DB_HOST\")\n",
    "\n",
    "engine = create_engine(f\"mysql://{DB_USER}:{DB_PASS}@{DB_HOST}/options\")\n",
    "conn = engine.connect()"
   ]
  },
  {
   "cell_type": "code",
   "execution_count": 26,
   "metadata": {},
   "outputs": [],
   "source": [
    "import pandas as pd"
   ]
  },
  {
   "cell_type": "code",
   "execution_count": 27,
   "metadata": {},
   "outputs": [],
   "source": [
    "import yahoo_fin.stock_info as si"
   ]
  },
  {
   "cell_type": "code",
   "execution_count": 28,
   "metadata": {},
   "outputs": [],
   "source": [
    "tickers = pd.read_csv('tickers_csv.csv')['TICKER']"
   ]
  },
  {
   "cell_type": "code",
   "execution_count": 29,
   "metadata": {},
   "outputs": [],
   "source": [
    "from tqdm import tqdm\n",
    "data_dict = {}"
   ]
  },
  {
   "cell_type": "code",
   "execution_count": 30,
   "metadata": {},
   "outputs": [
    {
     "name": "stderr",
     "output_type": "stream",
     "text": [
      "100%|██████████| 193/193 [00:25<00:00,  7.47it/s]\n"
     ]
    }
   ],
   "source": [
    "for ticker in tqdm(tickers):\n",
    "    pull = si.get_data(ticker=ticker, start_date='8/1/2020', index_as_date=False)\n",
    "    pull = pull.drop(columns=['open', 'high', 'low', 'close', 'volume'])\n",
    "    pull['MA'] = pull['adjclose'].rolling(window=30).mean()\n",
    "    pull['STD'] = pull['adjclose'].rolling(window=30).std()\n",
    "    pull['Upper'] = pull['MA'] + (pull['STD'] * 2)\n",
    "    pull['Lower'] = pull['MA'] - (pull['STD'] * 2)\n",
    "    pull = pull.dropna()\n",
    "    data_dict[ticker] = pull"
   ]
  },
  {
   "cell_type": "code",
   "execution_count": 31,
   "metadata": {},
   "outputs": [
    {
     "data": {
      "text/plain": [
       "Index(['date', 'adjclose', 'ticker', 'MA', 'STD', 'Upper', 'Lower'], dtype='object')"
      ]
     },
     "execution_count": 31,
     "metadata": {},
     "output_type": "execute_result"
    }
   ],
   "source": [
    "data_dict['SHOP'].columns"
   ]
  },
  {
   "cell_type": "code",
   "execution_count": 34,
   "metadata": {},
   "outputs": [
    {
     "data": {
      "text/html": [
       "<div>\n",
       "<style scoped>\n",
       "    .dataframe tbody tr th:only-of-type {\n",
       "        vertical-align: middle;\n",
       "    }\n",
       "\n",
       "    .dataframe tbody tr th {\n",
       "        vertical-align: top;\n",
       "    }\n",
       "\n",
       "    .dataframe thead th {\n",
       "        text-align: right;\n",
       "    }\n",
       "</style>\n",
       "<table border=\"1\" class=\"dataframe\">\n",
       "  <thead>\n",
       "    <tr style=\"text-align: right;\">\n",
       "      <th></th>\n",
       "      <th>date</th>\n",
       "      <th>adjclose</th>\n",
       "      <th>ticker</th>\n",
       "      <th>MA</th>\n",
       "      <th>STD</th>\n",
       "      <th>Upper</th>\n",
       "      <th>Lower</th>\n",
       "    </tr>\n",
       "  </thead>\n",
       "  <tbody>\n",
       "    <tr>\n",
       "      <th>29</th>\n",
       "      <td>2020-09-14</td>\n",
       "      <td>931.830017</td>\n",
       "      <td>SHOP</td>\n",
       "      <td>1019.849335</td>\n",
       "      <td>56.816210</td>\n",
       "      <td>1133.481756</td>\n",
       "      <td>906.216914</td>\n",
       "    </tr>\n",
       "    <tr>\n",
       "      <th>30</th>\n",
       "      <td>2020-09-15</td>\n",
       "      <td>929.390015</td>\n",
       "      <td>SHOP</td>\n",
       "      <td>1014.727334</td>\n",
       "      <td>57.839219</td>\n",
       "      <td>1130.405772</td>\n",
       "      <td>899.048895</td>\n",
       "    </tr>\n",
       "    <tr>\n",
       "      <th>31</th>\n",
       "      <td>2020-09-16</td>\n",
       "      <td>885.179993</td>\n",
       "      <td>SHOP</td>\n",
       "      <td>1008.233333</td>\n",
       "      <td>61.102716</td>\n",
       "      <td>1130.438765</td>\n",
       "      <td>886.027902</td>\n",
       "    </tr>\n",
       "    <tr>\n",
       "      <th>32</th>\n",
       "      <td>2020-09-17</td>\n",
       "      <td>870.760010</td>\n",
       "      <td>SHOP</td>\n",
       "      <td>1000.770333</td>\n",
       "      <td>63.797334</td>\n",
       "      <td>1128.365000</td>\n",
       "      <td>873.175666</td>\n",
       "    </tr>\n",
       "    <tr>\n",
       "      <th>33</th>\n",
       "      <td>2020-09-18</td>\n",
       "      <td>901.340027</td>\n",
       "      <td>SHOP</td>\n",
       "      <td>994.544000</td>\n",
       "      <td>64.091677</td>\n",
       "      <td>1122.727355</td>\n",
       "      <td>866.360646</td>\n",
       "    </tr>\n",
       "    <tr>\n",
       "      <th>...</th>\n",
       "      <td>...</td>\n",
       "      <td>...</td>\n",
       "      <td>...</td>\n",
       "      <td>...</td>\n",
       "      <td>...</td>\n",
       "      <td>...</td>\n",
       "      <td>...</td>\n",
       "    </tr>\n",
       "    <tr>\n",
       "      <th>102</th>\n",
       "      <td>2020-12-28</td>\n",
       "      <td>1147.060059</td>\n",
       "      <td>SHOP</td>\n",
       "      <td>1067.840002</td>\n",
       "      <td>95.943823</td>\n",
       "      <td>1259.727649</td>\n",
       "      <td>875.952356</td>\n",
       "    </tr>\n",
       "    <tr>\n",
       "      <th>103</th>\n",
       "      <td>2020-12-29</td>\n",
       "      <td>1171.609985</td>\n",
       "      <td>SHOP</td>\n",
       "      <td>1076.283669</td>\n",
       "      <td>93.443405</td>\n",
       "      <td>1263.170479</td>\n",
       "      <td>889.396859</td>\n",
       "    </tr>\n",
       "    <tr>\n",
       "      <th>104</th>\n",
       "      <td>2020-12-30</td>\n",
       "      <td>1163.000000</td>\n",
       "      <td>SHOP</td>\n",
       "      <td>1084.409670</td>\n",
       "      <td>89.844346</td>\n",
       "      <td>1264.098362</td>\n",
       "      <td>904.720978</td>\n",
       "    </tr>\n",
       "    <tr>\n",
       "      <th>105</th>\n",
       "      <td>2020-12-31</td>\n",
       "      <td>1131.949951</td>\n",
       "      <td>SHOP</td>\n",
       "      <td>1091.674001</td>\n",
       "      <td>84.227221</td>\n",
       "      <td>1260.128443</td>\n",
       "      <td>923.219559</td>\n",
       "    </tr>\n",
       "    <tr>\n",
       "      <th>106</th>\n",
       "      <td>2021-01-04</td>\n",
       "      <td>1089.729980</td>\n",
       "      <td>SHOP</td>\n",
       "      <td>1096.950667</td>\n",
       "      <td>78.613603</td>\n",
       "      <td>1254.177874</td>\n",
       "      <td>939.723461</td>\n",
       "    </tr>\n",
       "  </tbody>\n",
       "</table>\n",
       "<p>78 rows × 7 columns</p>\n",
       "</div>"
      ],
      "text/plain": [
       "          date     adjclose ticker           MA        STD        Upper  \\\n",
       "29  2020-09-14   931.830017   SHOP  1019.849335  56.816210  1133.481756   \n",
       "30  2020-09-15   929.390015   SHOP  1014.727334  57.839219  1130.405772   \n",
       "31  2020-09-16   885.179993   SHOP  1008.233333  61.102716  1130.438765   \n",
       "32  2020-09-17   870.760010   SHOP  1000.770333  63.797334  1128.365000   \n",
       "33  2020-09-18   901.340027   SHOP   994.544000  64.091677  1122.727355   \n",
       "..         ...          ...    ...          ...        ...          ...   \n",
       "102 2020-12-28  1147.060059   SHOP  1067.840002  95.943823  1259.727649   \n",
       "103 2020-12-29  1171.609985   SHOP  1076.283669  93.443405  1263.170479   \n",
       "104 2020-12-30  1163.000000   SHOP  1084.409670  89.844346  1264.098362   \n",
       "105 2020-12-31  1131.949951   SHOP  1091.674001  84.227221  1260.128443   \n",
       "106 2021-01-04  1089.729980   SHOP  1096.950667  78.613603  1254.177874   \n",
       "\n",
       "          Lower  \n",
       "29   906.216914  \n",
       "30   899.048895  \n",
       "31   886.027902  \n",
       "32   873.175666  \n",
       "33   866.360646  \n",
       "..          ...  \n",
       "102  875.952356  \n",
       "103  889.396859  \n",
       "104  904.720978  \n",
       "105  923.219559  \n",
       "106  939.723461  \n",
       "\n",
       "[78 rows x 7 columns]"
      ]
     },
     "execution_count": 34,
     "metadata": {},
     "output_type": "execute_result"
    }
   ],
   "source": [
    "data_dict['SHOP']"
   ]
  },
  {
   "cell_type": "code",
   "execution_count": 33,
   "metadata": {},
   "outputs": [
    {
     "name": "stderr",
     "output_type": "stream",
     "text": [
      "100%|██████████| 193/193 [00:18<00:00, 10.60it/s]\n"
     ]
    }
   ],
   "source": [
    "for ticker in tqdm(tickers):\n",
    "    data_dict[ticker].to_sql('band_data', conn,\n",
    "                            if_exists='append', index=False,\n",
    "                            dtype={\n",
    "                                'date':DateTime,\n",
    "                                'adjclose':Float,\n",
    "                                'ticker':String(10),\n",
    "                                'MA':Float,\n",
    "                                'STD':Float,\n",
    "                                'Upper':Float,\n",
    "                                'Lower':Float\n",
    "                            })"
   ]
  },
  {
   "cell_type": "code",
   "execution_count": null,
   "metadata": {},
   "outputs": [],
   "source": []
  }
 ],
 "metadata": {
  "kernelspec": {
   "display_name": "Python 3",
   "language": "python",
   "name": "python3"
  },
  "language_info": {
   "codemirror_mode": {
    "name": "ipython",
    "version": 3
   },
   "file_extension": ".py",
   "mimetype": "text/x-python",
   "name": "python",
   "nbconvert_exporter": "python",
   "pygments_lexer": "ipython3",
   "version": "3.8.5"
  }
 },
 "nbformat": 4,
 "nbformat_minor": 4
}
