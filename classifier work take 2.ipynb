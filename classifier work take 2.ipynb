{
 "cells": [
  {
   "cell_type": "code",
   "execution_count": 1,
   "metadata": {},
   "outputs": [],
   "source": [
    "import pandas as pd"
   ]
  },
  {
   "cell_type": "code",
   "execution_count": 4,
   "metadata": {},
   "outputs": [],
   "source": [
    "from sqlalchemy import create_engine, MetaData, Table, Column, Integer, String, select\n",
    "from dotenv import load_dotenv\n",
    "import os"
   ]
  },
  {
   "cell_type": "code",
   "execution_count": 3,
   "metadata": {},
   "outputs": [],
   "source": [
    "load_dotenv()\n",
    "\n",
    "DB_PASS = os.getenv(\"DB_PASS\")\n",
    "DB_USER = os.getenv(\"DB_USER\")\n",
    "DB_HOST = os.getenv(\"DB_HOST\")\n",
    "\n",
    "engine = create_engine(f\"mysql://{DB_USER}:{DB_PASS}@{DB_HOST}/options\")"
   ]
  },
  {
   "cell_type": "code",
   "execution_count": 20,
   "metadata": {},
   "outputs": [],
   "source": [
    "options = pd.read_sql('options_data', engine)"
   ]
  },
  {
   "cell_type": "code",
   "execution_count": 21,
   "metadata": {},
   "outputs": [],
   "source": [
    "options['date'] = options['pull_timestamp'].apply(lambda x: x.date())"
   ]
  },
  {
   "cell_type": "code",
   "execution_count": 29,
   "metadata": {},
   "outputs": [
    {
     "data": {
      "text/plain": [
       "0        2020-12-18\n",
       "1        2020-12-18\n",
       "2        2020-12-18\n",
       "3        2020-12-18\n",
       "4        2020-12-18\n",
       "            ...    \n",
       "44129    2021-01-04\n",
       "44130    2021-01-04\n",
       "44131    2021-01-04\n",
       "44132    2021-01-04\n",
       "44133    2021-01-04\n",
       "Name: date, Length: 44134, dtype: object"
      ]
     },
     "execution_count": 29,
     "metadata": {},
     "output_type": "execute_result"
    }
   ],
   "source": [
    "options['date']"
   ]
  },
  {
   "cell_type": "code",
   "execution_count": 44,
   "metadata": {},
   "outputs": [],
   "source": [
    "expiration_prices = options[(options['days_to_expiry'] == 0)][['expiry', 'ticka', 'close_on_pull', 'strike', 'contract']].copy()"
   ]
  },
  {
   "cell_type": "code",
   "execution_count": 45,
   "metadata": {},
   "outputs": [
    {
     "data": {
      "text/html": [
       "<div>\n",
       "<style scoped>\n",
       "    .dataframe tbody tr th:only-of-type {\n",
       "        vertical-align: middle;\n",
       "    }\n",
       "\n",
       "    .dataframe tbody tr th {\n",
       "        vertical-align: top;\n",
       "    }\n",
       "\n",
       "    .dataframe thead th {\n",
       "        text-align: right;\n",
       "    }\n",
       "</style>\n",
       "<table border=\"1\" class=\"dataframe\">\n",
       "  <thead>\n",
       "    <tr style=\"text-align: right;\">\n",
       "      <th></th>\n",
       "      <th>expiry</th>\n",
       "      <th>ticka</th>\n",
       "      <th>close_on_pull</th>\n",
       "      <th>strike</th>\n",
       "      <th>contract</th>\n",
       "    </tr>\n",
       "  </thead>\n",
       "  <tbody>\n",
       "    <tr>\n",
       "      <th>0</th>\n",
       "      <td>2020-12-18</td>\n",
       "      <td>SHOP</td>\n",
       "      <td>1170.96</td>\n",
       "      <td>860.0</td>\n",
       "      <td>P</td>\n",
       "    </tr>\n",
       "    <tr>\n",
       "      <th>1</th>\n",
       "      <td>2020-12-18</td>\n",
       "      <td>SHOP</td>\n",
       "      <td>1170.96</td>\n",
       "      <td>865.0</td>\n",
       "      <td>P</td>\n",
       "    </tr>\n",
       "    <tr>\n",
       "      <th>2</th>\n",
       "      <td>2020-12-18</td>\n",
       "      <td>SHOP</td>\n",
       "      <td>1170.96</td>\n",
       "      <td>875.0</td>\n",
       "      <td>P</td>\n",
       "    </tr>\n",
       "    <tr>\n",
       "      <th>3</th>\n",
       "      <td>2020-12-18</td>\n",
       "      <td>SHOP</td>\n",
       "      <td>1170.96</td>\n",
       "      <td>880.0</td>\n",
       "      <td>P</td>\n",
       "    </tr>\n",
       "    <tr>\n",
       "      <th>4</th>\n",
       "      <td>2020-12-18</td>\n",
       "      <td>SHOP</td>\n",
       "      <td>1170.96</td>\n",
       "      <td>890.0</td>\n",
       "      <td>P</td>\n",
       "    </tr>\n",
       "    <tr>\n",
       "      <th>...</th>\n",
       "      <td>...</td>\n",
       "      <td>...</td>\n",
       "      <td>...</td>\n",
       "      <td>...</td>\n",
       "      <td>...</td>\n",
       "    </tr>\n",
       "    <tr>\n",
       "      <th>37718</th>\n",
       "      <td>2020-12-31</td>\n",
       "      <td>ADBE</td>\n",
       "      <td>500.12</td>\n",
       "      <td>590.0</td>\n",
       "      <td>C</td>\n",
       "    </tr>\n",
       "    <tr>\n",
       "      <th>37719</th>\n",
       "      <td>2020-12-31</td>\n",
       "      <td>ADBE</td>\n",
       "      <td>500.12</td>\n",
       "      <td>600.0</td>\n",
       "      <td>C</td>\n",
       "    </tr>\n",
       "    <tr>\n",
       "      <th>37720</th>\n",
       "      <td>2020-12-31</td>\n",
       "      <td>ADBE</td>\n",
       "      <td>500.12</td>\n",
       "      <td>610.0</td>\n",
       "      <td>C</td>\n",
       "    </tr>\n",
       "    <tr>\n",
       "      <th>37721</th>\n",
       "      <td>2020-12-31</td>\n",
       "      <td>ADBE</td>\n",
       "      <td>500.12</td>\n",
       "      <td>620.0</td>\n",
       "      <td>C</td>\n",
       "    </tr>\n",
       "    <tr>\n",
       "      <th>37722</th>\n",
       "      <td>2020-12-31</td>\n",
       "      <td>ADBE</td>\n",
       "      <td>500.12</td>\n",
       "      <td>630.0</td>\n",
       "      <td>C</td>\n",
       "    </tr>\n",
       "  </tbody>\n",
       "</table>\n",
       "<p>9109 rows × 5 columns</p>\n",
       "</div>"
      ],
      "text/plain": [
       "          expiry ticka  close_on_pull  strike contract\n",
       "0     2020-12-18  SHOP        1170.96   860.0        P\n",
       "1     2020-12-18  SHOP        1170.96   865.0        P\n",
       "2     2020-12-18  SHOP        1170.96   875.0        P\n",
       "3     2020-12-18  SHOP        1170.96   880.0        P\n",
       "4     2020-12-18  SHOP        1170.96   890.0        P\n",
       "...          ...   ...            ...     ...      ...\n",
       "37718 2020-12-31  ADBE         500.12   590.0        C\n",
       "37719 2020-12-31  ADBE         500.12   600.0        C\n",
       "37720 2020-12-31  ADBE         500.12   610.0        C\n",
       "37721 2020-12-31  ADBE         500.12   620.0        C\n",
       "37722 2020-12-31  ADBE         500.12   630.0        C\n",
       "\n",
       "[9109 rows x 5 columns]"
      ]
     },
     "execution_count": 45,
     "metadata": {},
     "output_type": "execute_result"
    }
   ],
   "source": [
    "expiration_prices"
   ]
  },
  {
   "cell_type": "code",
   "execution_count": 46,
   "metadata": {},
   "outputs": [
    {
     "data": {
      "text/html": [
       "<div>\n",
       "<style scoped>\n",
       "    .dataframe tbody tr th:only-of-type {\n",
       "        vertical-align: middle;\n",
       "    }\n",
       "\n",
       "    .dataframe tbody tr th {\n",
       "        vertical-align: top;\n",
       "    }\n",
       "\n",
       "    .dataframe thead th {\n",
       "        text-align: right;\n",
       "    }\n",
       "</style>\n",
       "<table border=\"1\" class=\"dataframe\">\n",
       "  <thead>\n",
       "    <tr style=\"text-align: right;\">\n",
       "      <th></th>\n",
       "      <th>expiry</th>\n",
       "      <th>ticka</th>\n",
       "      <th>close_on_pull</th>\n",
       "      <th>strike</th>\n",
       "      <th>contract</th>\n",
       "      <th>assigned</th>\n",
       "    </tr>\n",
       "  </thead>\n",
       "  <tbody>\n",
       "    <tr>\n",
       "      <th>0</th>\n",
       "      <td>2020-12-18</td>\n",
       "      <td>SHOP</td>\n",
       "      <td>1170.96</td>\n",
       "      <td>860.0</td>\n",
       "      <td>P</td>\n",
       "      <td>1</td>\n",
       "    </tr>\n",
       "    <tr>\n",
       "      <th>1</th>\n",
       "      <td>2020-12-18</td>\n",
       "      <td>SHOP</td>\n",
       "      <td>1170.96</td>\n",
       "      <td>865.0</td>\n",
       "      <td>P</td>\n",
       "      <td>1</td>\n",
       "    </tr>\n",
       "    <tr>\n",
       "      <th>2</th>\n",
       "      <td>2020-12-18</td>\n",
       "      <td>SHOP</td>\n",
       "      <td>1170.96</td>\n",
       "      <td>875.0</td>\n",
       "      <td>P</td>\n",
       "      <td>1</td>\n",
       "    </tr>\n",
       "    <tr>\n",
       "      <th>3</th>\n",
       "      <td>2020-12-18</td>\n",
       "      <td>SHOP</td>\n",
       "      <td>1170.96</td>\n",
       "      <td>880.0</td>\n",
       "      <td>P</td>\n",
       "      <td>1</td>\n",
       "    </tr>\n",
       "    <tr>\n",
       "      <th>4</th>\n",
       "      <td>2020-12-18</td>\n",
       "      <td>SHOP</td>\n",
       "      <td>1170.96</td>\n",
       "      <td>890.0</td>\n",
       "      <td>P</td>\n",
       "      <td>1</td>\n",
       "    </tr>\n",
       "    <tr>\n",
       "      <th>...</th>\n",
       "      <td>...</td>\n",
       "      <td>...</td>\n",
       "      <td>...</td>\n",
       "      <td>...</td>\n",
       "      <td>...</td>\n",
       "      <td>...</td>\n",
       "    </tr>\n",
       "    <tr>\n",
       "      <th>37718</th>\n",
       "      <td>2020-12-31</td>\n",
       "      <td>ADBE</td>\n",
       "      <td>500.12</td>\n",
       "      <td>590.0</td>\n",
       "      <td>C</td>\n",
       "      <td>1</td>\n",
       "    </tr>\n",
       "    <tr>\n",
       "      <th>37719</th>\n",
       "      <td>2020-12-31</td>\n",
       "      <td>ADBE</td>\n",
       "      <td>500.12</td>\n",
       "      <td>600.0</td>\n",
       "      <td>C</td>\n",
       "      <td>1</td>\n",
       "    </tr>\n",
       "    <tr>\n",
       "      <th>37720</th>\n",
       "      <td>2020-12-31</td>\n",
       "      <td>ADBE</td>\n",
       "      <td>500.12</td>\n",
       "      <td>610.0</td>\n",
       "      <td>C</td>\n",
       "      <td>1</td>\n",
       "    </tr>\n",
       "    <tr>\n",
       "      <th>37721</th>\n",
       "      <td>2020-12-31</td>\n",
       "      <td>ADBE</td>\n",
       "      <td>500.12</td>\n",
       "      <td>620.0</td>\n",
       "      <td>C</td>\n",
       "      <td>1</td>\n",
       "    </tr>\n",
       "    <tr>\n",
       "      <th>37722</th>\n",
       "      <td>2020-12-31</td>\n",
       "      <td>ADBE</td>\n",
       "      <td>500.12</td>\n",
       "      <td>630.0</td>\n",
       "      <td>C</td>\n",
       "      <td>1</td>\n",
       "    </tr>\n",
       "  </tbody>\n",
       "</table>\n",
       "<p>9109 rows × 6 columns</p>\n",
       "</div>"
      ],
      "text/plain": [
       "          expiry ticka  close_on_pull  strike contract  assigned\n",
       "0     2020-12-18  SHOP        1170.96   860.0        P         1\n",
       "1     2020-12-18  SHOP        1170.96   865.0        P         1\n",
       "2     2020-12-18  SHOP        1170.96   875.0        P         1\n",
       "3     2020-12-18  SHOP        1170.96   880.0        P         1\n",
       "4     2020-12-18  SHOP        1170.96   890.0        P         1\n",
       "...          ...   ...            ...     ...      ...       ...\n",
       "37718 2020-12-31  ADBE         500.12   590.0        C         1\n",
       "37719 2020-12-31  ADBE         500.12   600.0        C         1\n",
       "37720 2020-12-31  ADBE         500.12   610.0        C         1\n",
       "37721 2020-12-31  ADBE         500.12   620.0        C         1\n",
       "37722 2020-12-31  ADBE         500.12   630.0        C         1\n",
       "\n",
       "[9109 rows x 6 columns]"
      ]
     },
     "execution_count": 46,
     "metadata": {},
     "output_type": "execute_result"
    }
   ],
   "source": [
    "def assignement(row):\n",
    "    if row['contract'] == 'P':\n",
    "        if row['strike'] < row['close_on_pull']:\n",
    "            return 1\n",
    "        else:\n",
    "            return 0\n",
    "    if row['contract'] == 'C':\n",
    "        if row['strike'] > row['close_on_pull']:\n",
    "            return 1\n",
    "        else:\n",
    "            return 0\n",
    "    #otherwise\n",
    "    return -1\n",
    "\n",
    "expiration_prices['assigned'] = expiration_prices.apply(assignement, axis = 1)\n",
    "expiration_prices"
   ]
  },
  {
   "cell_type": "code",
   "execution_count": 11,
   "metadata": {},
   "outputs": [],
   "source": [
    "bands = pd.read_sql('band_data', engine)"
   ]
  },
  {
   "cell_type": "code",
   "execution_count": 25,
   "metadata": {},
   "outputs": [],
   "source": [
    "bands.rename(columns={'ticker':'ticka'}, inplace=True)"
   ]
  },
  {
   "cell_type": "code",
   "execution_count": 31,
   "metadata": {},
   "outputs": [],
   "source": [
    "bands['date'] = bands['date'].apply(lambda x: x.date())"
   ]
  },
  {
   "cell_type": "code",
   "execution_count": 33,
   "metadata": {},
   "outputs": [],
   "source": [
    "options = options.merge(bands.drop(columns=['adjclose']), on=['date','ticka'])"
   ]
  },
  {
   "cell_type": "code",
   "execution_count": 48,
   "metadata": {},
   "outputs": [],
   "source": [
    "options = options.merge(expiration_prices.drop(columns=['close_on_pull']), on=['expiry', 'ticka', 'strike', 'contract'])"
   ]
  },
  {
   "cell_type": "code",
   "execution_count": 54,
   "metadata": {},
   "outputs": [],
   "source": [
    "def mark_safe(row):\n",
    "    if row['contract'] == 'P':\n",
    "        if row['strike'] < row['lower']:\n",
    "            return 1\n",
    "        else:\n",
    "            return 0\n",
    "    if row['contract'] == 'C':\n",
    "        if row['strike'] > row['upper']:\n",
    "            return 1\n",
    "        else:\n",
    "            return 0"
   ]
  },
  {
   "cell_type": "code",
   "execution_count": 57,
   "metadata": {},
   "outputs": [],
   "source": [
    "options['SD_to_MA'] = options['STD']/options['MA']\n",
    "options['pct_MA_to_adj'] = ((options['close_on_pull']/options['MA'])-1).apply(lambda x: abs(x))\n",
    "options['pct_adj_to_strike'] = ((options['strike']/options['close_on_pull'])-1).apply(lambda x: abs(x))"
   ]
  },
  {
   "cell_type": "code",
   "execution_count": 58,
   "metadata": {},
   "outputs": [],
   "source": [
    "options.to_csv('two_months_options.csv')"
   ]
  },
  {
   "cell_type": "code",
   "execution_count": 59,
   "metadata": {},
   "outputs": [
    {
     "data": {
      "text/plain": [
       "Index(['contract_name', 'last_trade_date', 'strike', 'last_price', 'bid',\n",
       "       'ask', 'change', 'pct_change', 'volume', 'open_interest',\n",
       "       'implied_volatility', 'contract', 'pull_timestamp', 'expiry',\n",
       "       'days_to_expiry', 'close_on_pull', 'ticka', 'date', 'MA', 'STD',\n",
       "       'Upper', 'Lower', 'assigned', 'SD_to_MA', 'pct_MA_to_adj',\n",
       "       'pct_adj_to_strike'],\n",
       "      dtype='object')"
      ]
     },
     "execution_count": 59,
     "metadata": {},
     "output_type": "execute_result"
    }
   ],
   "source": [
    "options.columns"
   ]
  },
  {
   "cell_type": "code",
   "execution_count": 53,
   "metadata": {},
   "outputs": [],
   "source": [
    "from sklearn.model_selection import train_test_split"
   ]
  },
  {
   "cell_type": "code",
   "execution_count": 60,
   "metadata": {},
   "outputs": [],
   "source": [
    "trainX, validX, trainY, validY = train_test_split(options[['implied_volatility', 'days_to_expiry', 'MA', 'STD', 'SD_to_MA', 'pct_MA_to_adj', 'pct_adj_to_strike']], options['assigned'], test_size=0.15, random_state=42)"
   ]
  },
  {
   "cell_type": "code",
   "execution_count": 61,
   "metadata": {},
   "outputs": [],
   "source": [
    "from sklearn.metrics import plot_confusion_matrix\n",
    "import matplotlib.pyplot as plt\n",
    "def plot_metric(clf, testX, testY, name):\n",
    "    \"\"\"\n",
    "    Small function to confusion matrix\n",
    "    \"\"\"\n",
    "    plt.style.use('ggplot')\n",
    "    plot_confusion_matrix(clf, testX, testY, normalize='true')\n",
    "    plt.title(f\"Confusion Matrix [{name}]\")"
   ]
  },
  {
   "cell_type": "code",
   "execution_count": 62,
   "metadata": {},
   "outputs": [
    {
     "name": "stdout",
     "output_type": "stream",
     "text": [
      "Validation Accuracy of Random Forest Classifier is: 89.49%\n"
     ]
    }
   ],
   "source": [
    "from sklearn.ensemble import RandomForestClassifier\n",
    "rf_classifier = RandomForestClassifier()\n",
    "rf_classifier.fit(trainX, trainY)\n",
    "print(f\"Validation Accuracy of Random Forest Classifier is: {(rf_classifier.score(validX, validY))*100:.2f}%\")"
   ]
  },
  {
   "cell_type": "code",
   "execution_count": 63,
   "metadata": {},
   "outputs": [
    {
     "data": {
      "image/png": "[encoded data removed]",
      "text/plain": [
       "<Figure size 432x288 with 2 Axes>"
      ]
     },
     "metadata": {},
     "output_type": "display_data"
    }
   ],
   "source": [
    "plot_metric(rf_classifier, validX, validY, \"Random Forest\")"
   ]
  },
  {
   "cell_type": "code",
   "execution_count": 64,
   "metadata": {},
   "outputs": [
    {
     "data": {
      "text/plain": [
       "array([0.57729026, 0.0178525 , 0.0370047 , 0.03084088, 0.03156765,\n",
       "       0.02948788, 0.27595613])"
      ]
     },
     "execution_count": 64,
     "metadata": {},
     "output_type": "execute_result"
    }
   ],
   "source": [
    "rf_classifier.feature_importances_"
   ]
  },
  {
   "cell_type": "code",
   "execution_count": null,
   "metadata": {},
   "outputs": [],
   "source": []
  }
 ],
 "metadata": {
  "kernelspec": {
   "display_name": "Python 3",
   "language": "python",
   "name": "python3"
  },
  "language_info": {
   "codemirror_mode": {
    "name": "ipython",
    "version": 3
   },
   "file_extension": ".py",
   "mimetype": "text/x-python",
   "name": "python",
   "nbconvert_exporter": "python",
   "pygments_lexer": "ipython3",
   "version": "3.8.5"
  }
 },
 "nbformat": 4,
 "nbformat_minor": 4
}
